{
 "cells": [
  {
   "cell_type": "markdown",
   "id": "d80b2992-f7b8-4f62-8df8-45b932fa974b",
   "metadata": {},
   "source": [
    "# Liabraries for scientific research"
   ]
  },
  {
   "cell_type": "code",
   "execution_count": 1,
   "id": "a289766e-c069-48ea-8f32-028c84fae691",
   "metadata": {},
   "outputs": [],
   "source": [
    "import numpy"
   ]
  },
  {
   "cell_type": "code",
   "execution_count": 2,
   "id": "34fc0a7c-4223-42cf-bc58-6459a2e3d8ec",
   "metadata": {},
   "outputs": [
    {
     "data": {
      "text/plain": [
       "array([[0., 0., 1., ..., 3., 0., 0.],\n",
       "       [0., 1., 2., ..., 1., 0., 1.],\n",
       "       [0., 1., 1., ..., 2., 1., 1.],\n",
       "       ...,\n",
       "       [0., 1., 1., ..., 1., 1., 1.],\n",
       "       [0., 0., 0., ..., 0., 2., 0.],\n",
       "       [0., 0., 1., ..., 1., 1., 0.]])"
      ]
     },
     "execution_count": 2,
     "metadata": {},
     "output_type": "execute_result"
    }
   ],
   "source": [
    "numpy.loadtxt(fname='data/inflammation-01.csv', delimiter=',')"
   ]
  },
  {
   "cell_type": "code",
   "execution_count": 3,
   "id": "148abaec-ac55-4877-9b6b-a7fe1c220894",
   "metadata": {},
   "outputs": [],
   "source": [
    "arthritis = numpy.loadtxt(fname='data/inflammation-01.csv', delimiter=',')"
   ]
  },
  {
   "cell_type": "code",
   "execution_count": 4,
   "id": "f119ed25-8b6f-4bfe-b985-775a4c779b35",
   "metadata": {},
   "outputs": [
    {
     "name": "stdout",
     "output_type": "stream",
     "text": [
      "[[0. 0. 1. ... 3. 0. 0.]\n",
      " [0. 1. 2. ... 1. 0. 1.]\n",
      " [0. 1. 1. ... 2. 1. 1.]\n",
      " ...\n",
      " [0. 1. 1. ... 1. 1. 1.]\n",
      " [0. 0. 0. ... 0. 2. 0.]\n",
      " [0. 0. 1. ... 1. 1. 0.]]\n"
     ]
    }
   ],
   "source": [
    "print(arthritis)"
   ]
  },
  {
   "cell_type": "code",
   "execution_count": 5,
   "id": "dfbc81be-27ab-430b-a753-405809e92279",
   "metadata": {},
   "outputs": [
    {
     "name": "stdout",
     "output_type": "stream",
     "text": [
      "<class 'numpy.ndarray'>\n"
     ]
    }
   ],
   "source": [
    "print(type(arthritis))"
   ]
  },
  {
   "cell_type": "markdown",
   "id": "a4224f3e-e4af-4679-8ddf-c64f95d23300",
   "metadata": {},
   "source": [
    "# Attributes(adjeZtives)"
   ]
  },
  {
   "cell_type": "code",
   "execution_count": 6,
   "id": "e2eae50a-4f43-42a9-b01b-10335e19fbbf",
   "metadata": {},
   "outputs": [
    {
     "name": "stdout",
     "output_type": "stream",
     "text": [
      "float64\n",
      "(60, 40)\n"
     ]
    }
   ],
   "source": [
    "print(arthritis.dtype)\n",
    "print(arthritis.shape)"
   ]
  },
  {
   "cell_type": "code",
   "execution_count": 7,
   "id": "699b0267-5878-4139-8754-01f590bb9b77",
   "metadata": {},
   "outputs": [
    {
     "name": "stdout",
     "output_type": "stream",
     "text": [
      "first value in arthritis: 0.0\n"
     ]
    }
   ],
   "source": [
    "print(\"first value in arthritis:\", arthritis[0, 0])"
   ]
  },
  {
   "cell_type": "code",
   "execution_count": 8,
   "id": "05a23354-3af5-4b3c-b2f3-998c09df9f25",
   "metadata": {},
   "outputs": [
    {
     "name": "stdout",
     "output_type": "stream",
     "text": [
      "middle value: 13.0\n"
     ]
    }
   ],
   "source": [
    "print(\"middle value:\", arthritis[30, 20])"
   ]
  },
  {
   "cell_type": "code",
   "execution_count": 9,
   "id": "b76bbe48-883d-4a24-8223-fc6f96072f81",
   "metadata": {},
   "outputs": [
    {
     "name": "stdout",
     "output_type": "stream",
     "text": [
      "[[0. 0. 1. 3. 1. 2. 4. 7. 8. 3.]\n",
      " [0. 1. 2. 1. 2. 1. 3. 2. 2. 6.]\n",
      " [0. 1. 1. 3. 3. 2. 6. 2. 5. 9.]\n",
      " [0. 0. 2. 0. 4. 2. 2. 1. 6. 7.]]\n"
     ]
    }
   ],
   "source": [
    "print(arthritis[0:4, 0:10])"
   ]
  },
  {
   "cell_type": "code",
   "execution_count": 10,
   "id": "338842e3-e58d-4c2e-9bf0-d45f2f301a67",
   "metadata": {},
   "outputs": [
    {
     "name": "stdout",
     "output_type": "stream",
     "text": [
      "[[0. 0. 1. 2. 2. 4. 2. 1. 6. 4.]\n",
      " [0. 0. 2. 2. 4. 2. 2. 5. 5. 8.]\n",
      " [0. 0. 1. 2. 3. 1. 2. 3. 5. 3.]\n",
      " [0. 0. 0. 3. 1. 5. 6. 5. 5. 8.]\n",
      " [0. 1. 1. 2. 1. 3. 5. 3. 5. 8.]]\n"
     ]
    }
   ],
   "source": [
    "print(arthritis[5:10, 0:10])"
   ]
  },
  {
   "cell_type": "code",
   "execution_count": 11,
   "id": "cf28a9d9-6666-4615-815c-b9497800e78f",
   "metadata": {},
   "outputs": [
    {
     "name": "stdout",
     "output_type": "stream",
     "text": [
      "[[2. 3. 0. 0.]\n",
      " [1. 1. 0. 1.]\n",
      " [2. 2. 1. 1.]]\n"
     ]
    }
   ],
   "source": [
    "corner = arthritis [:3, 36:]\n",
    "print(corner)"
   ]
  },
  {
   "cell_type": "markdown",
   "id": "41f94907-9c69-44c3-bbe0-1547afeeef58",
   "metadata": {},
   "source": [
    "# Exericise"
   ]
  },
  {
   "cell_type": "code",
   "execution_count": 12,
   "id": "86aa6f7b-0b7d-4555-86dc-b1e8e7594bf6",
   "metadata": {},
   "outputs": [
    {
     "data": {
      "text/plain": [
       "'xyg'"
      ]
     },
     "execution_count": 12,
     "metadata": {},
     "output_type": "execute_result"
    }
   ],
   "source": [
    "\"oxygen\"[1:4]"
   ]
  },
  {
   "cell_type": "markdown",
   "id": "41ac9c12-18f1-480f-8830-0a44ee1235cb",
   "metadata": {},
   "source": [
    "# operations"
   ]
  },
  {
   "cell_type": "code",
   "execution_count": 13,
   "id": "efad8566-6540-4b5d-bc72-be1ddb697df7",
   "metadata": {},
   "outputs": [],
   "source": [
    "double_arthritis = arthritis * 2"
   ]
  },
  {
   "cell_type": "code",
   "execution_count": 14,
   "id": "44430694-9a5d-40a7-b2a9-22559b709a0a",
   "metadata": {},
   "outputs": [
    {
     "name": "stdout",
     "output_type": "stream",
     "text": [
      "original\n",
      "[[2. 3. 0. 0.]\n",
      " [1. 1. 0. 1.]\n",
      " [2. 2. 1. 1.]]\n",
      "double\n",
      "[[4. 6. 0. 0.]\n",
      " [2. 2. 0. 2.]\n",
      " [4. 4. 2. 2.]]\n"
     ]
    }
   ],
   "source": [
    "print(\"original\")\n",
    "print(arthritis[:3, 36:])\n",
    "print(\"double\")\n",
    "print(double_arthritis[:3, 36:])"
   ]
  },
  {
   "cell_type": "code",
   "execution_count": 15,
   "id": "46332b3e-f5a0-43cb-857a-753f27d60a6c",
   "metadata": {},
   "outputs": [
    {
     "name": "stdout",
     "output_type": "stream",
     "text": [
      "[[6. 9. 0. 0.]\n",
      " [3. 3. 0. 3.]\n",
      " [6. 6. 3. 3.]]\n"
     ]
    }
   ],
   "source": [
    "triple_arthritis = double_arthritis + arthritis\n",
    "print(triple_arthritis[:3, 36:])"
   ]
  },
  {
   "cell_type": "markdown",
   "id": "f2b1130d-1fd7-43ff-8931-f11447547182",
   "metadata": {},
   "source": [
    "# Methods(verbs)"
   ]
  },
  {
   "cell_type": "code",
   "execution_count": 16,
   "id": "e7df1f95-7f86-47a3-ac6f-43f544428c59",
   "metadata": {},
   "outputs": [
    {
     "name": "stdout",
     "output_type": "stream",
     "text": [
      "6.14875\n"
     ]
    }
   ],
   "source": [
    "print(arthritis.mean())"
   ]
  },
  {
   "cell_type": "code",
   "execution_count": 18,
   "id": "cbef25f3-f9fb-4f6f-b27e-f5a86525680c",
   "metadata": {},
   "outputs": [
    {
     "name": "stdout",
     "output_type": "stream",
     "text": [
      "maximum inflammation: 20.0\n",
      "minimum inflammation: 0.0\n",
      "standard deviation: 4.613833197118566\n"
     ]
    }
   ],
   "source": [
    "print(\"maximum inflammation:\", arthritis.max())\n",
    "print(\"minimum inflammation:\", arthritis.min())\n",
    "print(\"standard deviation:\", arthritis.std())"
   ]
  },
  {
   "cell_type": "code",
   "execution_count": 20,
   "id": "964dd322-9e7d-4d13-bca1-d88ff9a56bbd",
   "metadata": {},
   "outputs": [
    {
     "data": {
      "text/plain": [
       "2400"
      ]
     },
     "execution_count": 20,
     "metadata": {},
     "output_type": "execute_result"
    }
   ],
   "source": [
    "arthritis.size"
   ]
  },
  {
   "cell_type": "code",
   "execution_count": 22,
   "id": "d91121f1-ce74-4111-aec7-5802c60d25af",
   "metadata": {},
   "outputs": [
    {
     "name": "stdout",
     "output_type": "stream",
     "text": [
      "maximum inflammation for patient 0: 18.0\n"
     ]
    }
   ],
   "source": [
    "patient_0 = arthritis[0, :]\n",
    "print(\"maximum inflammation for patient 0:\", patient_0.max())"
   ]
  },
  {
   "cell_type": "code",
   "execution_count": 23,
   "id": "16c5f47e-97de-40ff-9043-a2f606a86123",
   "metadata": {},
   "outputs": [
    {
     "name": "stdout",
     "output_type": "stream",
     "text": [
      "maximum inflammation for patient 2: 19.0\n"
     ]
    }
   ],
   "source": [
    "print(\"maximum inflammation for patient 2:\", arthritis[2, :].max())"
   ]
  },
  {
   "cell_type": "code",
   "execution_count": 24,
   "id": "17b7200d-8f10-4097-bf20-637c8963cc1a",
   "metadata": {},
   "outputs": [
    {
     "name": "stdout",
     "output_type": "stream",
     "text": [
      "[18. 18. 19. 17. 17. 18. 17. 20. 17. 18. 18. 18. 17. 16. 17. 18. 19. 19.\n",
      " 17. 19. 19. 16. 17. 15. 17. 17. 18. 17. 20. 17. 16. 19. 15. 15. 19. 17.\n",
      " 16. 17. 19. 16. 18. 19. 16. 19. 18. 16. 19. 15. 16. 18. 14. 20. 17. 15.\n",
      " 17. 16. 17. 19. 18. 18.]\n"
     ]
    }
   ],
   "source": [
    "print(arthritis.max(axis=1))"
   ]
  },
  {
   "cell_type": "code",
   "execution_count": 25,
   "id": "8fc1dfc2-dd50-45b5-a08b-8f7c8622ab87",
   "metadata": {},
   "outputs": [
    {
     "name": "stdout",
     "output_type": "stream",
     "text": [
      "[ 0.  1.  2.  3.  4.  5.  6.  7.  8.  9. 10. 11. 12. 13. 14. 15. 16. 17.\n",
      " 18. 19. 20. 19. 18. 17. 16. 15. 14. 13. 12. 11. 10.  9.  8.  7.  6.  5.\n",
      "  4.  3.  2.  1.]\n"
     ]
    }
   ],
   "source": [
    "print(arthritis.max(axis=0))"
   ]
  },
  {
   "cell_type": "code",
   "execution_count": 26,
   "id": "d2294470-5f0b-49d0-8981-eca8b795809c",
   "metadata": {},
   "outputs": [
    {
     "name": "stdout",
     "output_type": "stream",
     "text": [
      "(60,)\n",
      "(40,)\n"
     ]
    }
   ],
   "source": [
    "print(arthritis.max(axis=1).shape)\n",
    "print(arthritis.max(axis=0).shape)"
   ]
  },
  {
   "cell_type": "code",
   "execution_count": 31,
   "id": "d4bcd1dc-7b00-44ec-b9ca-3e4b7779a325",
   "metadata": {},
   "outputs": [
    {
     "data": {
      "text/plain": [
       "4.579294680644961"
      ]
     },
     "execution_count": 31,
     "metadata": {},
     "output_type": "execute_result"
    }
   ],
   "source": [
    "arthritis.std(axis = 1).mean()"
   ]
  },
  {
   "cell_type": "code",
   "execution_count": 32,
   "id": "e83e147c-65d3-4458-8386-90c05f1b670b",
   "metadata": {},
   "outputs": [
    {
     "name": "stdout",
     "output_type": "stream",
     "text": [
      "the average of the standard deviation for all the patienst 4.579294680644961\n"
     ]
    }
   ],
   "source": [
    "print(\"the average of the standard deviation for all the patienst\", arthritis.std(axis = 1).mean())"
   ]
  },
  {
   "cell_type": "code",
   "execution_count": null,
   "id": "3cbc06bd-3985-4255-a64d-efa887391cc8",
   "metadata": {},
   "outputs": [],
   "source": []
  }
 ],
 "metadata": {
  "kernelspec": {
   "display_name": "Python 3 (ipykernel)",
   "language": "python",
   "name": "python3"
  },
  "language_info": {
   "codemirror_mode": {
    "name": "ipython",
    "version": 3
   },
   "file_extension": ".py",
   "mimetype": "text/x-python",
   "name": "python",
   "nbconvert_exporter": "python",
   "pygments_lexer": "ipython3",
   "version": "3.9.12"
  }
 },
 "nbformat": 4,
 "nbformat_minor": 5
}
