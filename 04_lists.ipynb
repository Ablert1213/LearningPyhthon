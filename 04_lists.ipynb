{
 "cells": [
  {
   "cell_type": "markdown",
   "id": "0f42c124-23d1-45e6-955a-2567bd822d0f",
   "metadata": {},
   "source": [
    "# lists"
   ]
  },
  {
   "cell_type": "code",
   "execution_count": 1,
   "id": "1a277cb3-4777-4675-ace2-f8f890ce6909",
   "metadata": {},
   "outputs": [
    {
     "name": "stdout",
     "output_type": "stream",
     "text": [
      "odds are: [1, 3, 5, 7]\n"
     ]
    }
   ],
   "source": [
    "odds = [1, 3, 5, 7]\n",
    "print('odds are:', odds)"
   ]
  },
  {
   "cell_type": "code",
   "execution_count": 2,
   "id": "f59ced60-fed7-4ba6-be35-ac3cab5007f5",
   "metadata": {},
   "outputs": [
    {
     "name": "stdout",
     "output_type": "stream",
     "text": [
      "First element in the list 1\n"
     ]
    }
   ],
   "source": [
    "print(\"First element in the list\", odds[0])"
   ]
  },
  {
   "cell_type": "code",
   "execution_count": 4,
   "id": "27718ba2-0bec-445c-8452-68ba717f992a",
   "metadata": {},
   "outputs": [
    {
     "name": "stdout",
     "output_type": "stream",
     "text": [
      "last element in the list 7\n"
     ]
    }
   ],
   "source": [
    "print(\"last element in the list\", odds[3])"
   ]
  },
  {
   "cell_type": "code",
   "execution_count": 7,
   "id": "d03da1b4-fb37-4259-9d94-ae4dcb252884",
   "metadata": {},
   "outputs": [
    {
     "name": "stdout",
     "output_type": "stream",
     "text": [
      "Every second element in the list [1, 5]\n"
     ]
    }
   ],
   "source": [
    "print(\"Every second element in the list\", odds[0::2])"
   ]
  },
  {
   "cell_type": "code",
   "execution_count": 8,
   "id": "3de130b3-e0f7-4b0d-9ff4-cb1e6cadba36",
   "metadata": {},
   "outputs": [
    {
     "name": "stdout",
     "output_type": "stream",
     "text": [
      "name is originally ['Curie', 'Darwing', 'Turing']\n",
      "Final values of names ['Curie', 'Darwin', 'Turing']\n"
     ]
    }
   ],
   "source": [
    "names = [\"Curie\", \"Darwing\", \"Turing\"]\n",
    "print(\"name is originally\", names)\n",
    "names[1] = \"Darwin\"\n",
    "print(\"Final values of names\", names)"
   ]
  },
  {
   "cell_type": "code",
   "execution_count": 9,
   "id": "b0380f75-6aa5-4f6d-8612-cfb345695e6a",
   "metadata": {},
   "outputs": [
    {
     "name": "stdout",
     "output_type": "stream",
     "text": [
      "First character in the name D\n"
     ]
    }
   ],
   "source": [
    "name = \"Darwin\"\n",
    "print(\"First character in the name\", name[0])"
   ]
  },
  {
   "cell_type": "code",
   "execution_count": 10,
   "id": "dda8a775-a3e6-4308-82d1-1928623e2202",
   "metadata": {},
   "outputs": [
    {
     "ename": "TypeError",
     "evalue": "'str' object does not support item assignment",
     "output_type": "error",
     "traceback": [
      "\u001b[1;31m----------------------------------------------------------------------\u001b[0m",
      "\u001b[1;31mTypeError\u001b[0m                            Traceback (most recent call last)",
      "Input \u001b[1;32mIn [10]\u001b[0m, in \u001b[0;36m<cell line: 1>\u001b[1;34m()\u001b[0m\n\u001b[1;32m----> 1\u001b[0m name[\u001b[38;5;241m0\u001b[39m] \u001b[38;5;241m=\u001b[39m \u001b[38;5;124m\"\u001b[39m\u001b[38;5;124md\u001b[39m\u001b[38;5;124m\"\u001b[39m\n",
      "\u001b[1;31mTypeError\u001b[0m: 'str' object does not support item assignment"
     ]
    }
   ],
   "source": [
    "name[0] = \"d\"\n"
   ]
  },
  {
   "cell_type": "code",
   "execution_count": 11,
   "id": "225c3542-c436-4ec3-9cfc-33df4917ea8e",
   "metadata": {},
   "outputs": [],
   "source": [
    "x = [\n",
    "    [\"pepper\", \"courgette\", \"onion\"],\n",
    "    [\"cabbage\", \"lettuce\", \"garlic\"],\n",
    "    [\"apple\", \"pear\", \"banana\"]\n",
    "]"
   ]
  },
  {
   "cell_type": "code",
   "execution_count": 12,
   "id": "794e6df6-19b2-4edb-a3b8-d3817cdf06a1",
   "metadata": {},
   "outputs": [
    {
     "name": "stdout",
     "output_type": "stream",
     "text": [
      "['pepper', 'courgette', 'onion']\n"
     ]
    }
   ],
   "source": [
    "print(x[0])"
   ]
  },
  {
   "cell_type": "code",
   "execution_count": 16,
   "id": "3ad9b02a-e740-4af1-9680-83615edc5ade",
   "metadata": {},
   "outputs": [
    {
     "name": "stdout",
     "output_type": "stream",
     "text": [
      "courgette\n"
     ]
    }
   ],
   "source": [
    "print(x[0][1])"
   ]
  },
  {
   "cell_type": "code",
   "execution_count": 17,
   "id": "af3a47db-5d82-41f5-804a-d6cb1cde42b4",
   "metadata": {},
   "outputs": [],
   "source": [
    "sample_ages = [10, 12.5, \"Unknown\"]"
   ]
  },
  {
   "cell_type": "code",
   "execution_count": 18,
   "id": "9d978cb0-42ea-4a7e-9240-433c293d147f",
   "metadata": {},
   "outputs": [
    {
     "name": "stdout",
     "output_type": "stream",
     "text": [
      "<class 'int'>\n",
      "<class 'float'>\n",
      "<class 'str'>\n"
     ]
    }
   ],
   "source": [
    "print(type(sample_ages[0]))\n",
    "print(type(sample_ages[1]))\n",
    "print(type(sample_ages[2]))"
   ]
  },
  {
   "cell_type": "code",
   "execution_count": 20,
   "id": "66c4c3de-ea87-4c06-989d-493ea426bf50",
   "metadata": {},
   "outputs": [
    {
     "name": "stdout",
     "output_type": "stream",
     "text": [
      "odds after adding a value [1, 3, 5, 7, 11, 11]\n"
     ]
    }
   ],
   "source": [
    "odds.append(11) #add integer in odds\n",
    "print(\"odds after adding a value\", odds)"
   ]
  },
  {
   "cell_type": "code",
   "execution_count": 22,
   "id": "c968bfd5-3cf3-4217-ba57-8a8f290277f8",
   "metadata": {},
   "outputs": [
    {
     "name": "stdout",
     "output_type": "stream",
     "text": [
      "odds after removing the first element [5, 7, 11, 11]\n",
      "removed_element 3\n"
     ]
    }
   ],
   "source": [
    "removed_element = odds.pop(0) #remove first item in odds\n",
    "print(\"odds after removing the first element\", odds)\n",
    "print(\"removed_element\", removed_element)"
   ]
  },
  {
   "cell_type": "code",
   "execution_count": 24,
   "id": "af8acdc1-2775-4139-99af-bd2ee1743eb2",
   "metadata": {},
   "outputs": [
    {
     "name": "stdout",
     "output_type": "stream",
     "text": [
      "None\n"
     ]
    }
   ],
   "source": [
    "print(odds.reverse())"
   ]
  },
  {
   "cell_type": "code",
   "execution_count": 26,
   "id": "75f5ba6e-7c82-46a4-9533-6189990ed253",
   "metadata": {},
   "outputs": [
    {
     "data": {
      "text/plain": [
       "[11, 11, 7, 5]"
      ]
     },
     "execution_count": 26,
     "metadata": {},
     "output_type": "execute_result"
    }
   ],
   "source": [
    "odds #it gets reversed"
   ]
  },
  {
   "cell_type": "code",
   "execution_count": 31,
   "id": "f7c466e6-77fe-4c89-8b15-3726ea12d51c",
   "metadata": {},
   "outputs": [
    {
     "name": "stdout",
     "output_type": "stream",
     "text": [
      "2013\n",
      "2013\n"
     ]
    }
   ],
   "source": [
    "string_for_slicing = 'observation data: 02-Feb-2013'\n",
    "print(string_for_slicing[25:])\n",
    "print(string_for_slicing[-4:])"
   ]
  },
  {
   "cell_type": "code",
   "execution_count": 40,
   "id": "913bad1f-3c38-4827-a148-8bd91b9ef7a5",
   "metadata": {},
   "outputs": [
    {
     "name": "stdout",
     "output_type": "stream",
     "text": [
      "I notpssgre ntesae\n"
     ]
    }
   ],
   "source": [
    "beatles = \"In an octopus's garden in the shade\"\n",
    "print(beatles[:: 2]) #skip once includs space and letter"
   ]
  },
  {
   "cell_type": "code",
   "execution_count": 39,
   "id": "ff6a1380-14f1-4144-98b8-8a3a87c8edae",
   "metadata": {},
   "outputs": [
    {
     "name": "stdout",
     "output_type": "stream",
     "text": [
      "[2, 4, 6, 8, 10, 2, 4, 6, 8, 10]\n"
     ]
    }
   ],
   "source": [
    "counts = [2, 4, 6, 8, 10]\n",
    "print(counts * 2)"
   ]
  },
  {
   "cell_type": "code",
   "execution_count": null,
   "id": "f539fb83-cb95-48ca-a3a9-0c8d59c7e2d7",
   "metadata": {},
   "outputs": [],
   "source": []
  },
  {
   "cell_type": "code",
   "execution_count": null,
   "id": "f0f7a2e5-3b7c-4201-9318-d8f94d8d2aed",
   "metadata": {},
   "outputs": [],
   "source": []
  }
 ],
 "metadata": {
  "kernelspec": {
   "display_name": "Python 3 (ipykernel)",
   "language": "python",
   "name": "python3"
  },
  "language_info": {
   "codemirror_mode": {
    "name": "ipython",
    "version": 3
   },
   "file_extension": ".py",
   "mimetype": "text/x-python",
   "name": "python",
   "nbconvert_exporter": "python",
   "pygments_lexer": "ipython3",
   "version": "3.9.12"
  }
 },
 "nbformat": 4,
 "nbformat_minor": 5
}
