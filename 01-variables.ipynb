{
 "cells": [
  {
   "cell_type": "markdown",
   "id": "1450c72e-bee6-4a42-a50b-835effc59a83",
   "metadata": {},
   "source": [
    "# Variables\n",
    "\n",
    "this is the first notebook of this course\n",
    "We **are** learning ~~matlab~~ *python* using _jupyter_ notebooks"
   ]
  },
  {
   "cell_type": "code",
   "execution_count": 1,
   "id": "9f50bde7-490c-4593-96d1-3da2ca405998",
   "metadata": {
    "tags": []
   },
   "outputs": [],
   "source": [
    "weight_kg = 55"
   ]
  },
  {
   "cell_type": "code",
   "execution_count": 2,
   "id": "c3d43aad-8293-4f90-890a-f89afc5b7dfe",
   "metadata": {},
   "outputs": [
    {
     "name": "stdout",
     "output_type": "stream",
     "text": [
      "55\n"
     ]
    }
   ],
   "source": [
    "print(weight_kg)"
   ]
  },
  {
   "cell_type": "code",
   "execution_count": 3,
   "id": "68fa0891-3d63-483a-9f41-cd1fd14e3044",
   "metadata": {},
   "outputs": [
    {
     "name": "stdout",
     "output_type": "stream",
     "text": [
      "weight in pounds 121.00000000000001\n"
     ]
    }
   ],
   "source": [
    "print(\"weight in pounds\", 2.2*weight_kg)"
   ]
  },
  {
   "cell_type": "code",
   "execution_count": 4,
   "id": "bc913916-9264-434b-a54e-9b203c130c09",
   "metadata": {},
   "outputs": [
    {
     "name": "stdout",
     "output_type": "stream",
     "text": [
      "weight in kg: 55 and in lb 121.00000000000001\n"
     ]
    }
   ],
   "source": [
    "weight_lb = 2.2 * weight_kg\n",
    "print(\"weight in kg:\", weight_kg, \"and in lb\", weight_lb)"
   ]
  },
  {
   "cell_type": "code",
   "execution_count": 6,
   "id": "342d0667-4d45-45bf-92a4-b5516a9f0b0a",
   "metadata": {},
   "outputs": [
    {
     "name": "stdout",
     "output_type": "stream",
     "text": [
      "weight in kg is now 55  and weight in lb is now 121.00000000000001\n"
     ]
    }
   ],
   "source": [
    "ight_kg =100\n",
    "print(\"weight in kg is now\", weight_kg, \" and weight in lb is now\", weight_lb)"
   ]
  },
  {
   "cell_type": "code",
   "execution_count": null,
   "id": "bb9d1e96-8f04-4b28-adec-7581eea4a1ae",
   "metadata": {},
   "outputs": [],
   "source": []
  }
 ],
 "metadata": {
  "kernelspec": {
   "display_name": "Python 3 (ipykernel)",
   "language": "python",
   "name": "python3"
  },
  "language_info": {
   "codemirror_mode": {
    "name": "ipython",
    "version": 3
   },
   "file_extension": ".py",
   "mimetype": "text/x-python",
   "name": "python",
   "nbconvert_exporter": "python",
   "pygments_lexer": "ipython3",
   "version": "3.9.12"
  }
 },
 "nbformat": 4,
 "nbformat_minor": 5
}
